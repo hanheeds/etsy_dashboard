{
 "cells": [
  {
   "cell_type": "markdown",
   "metadata": {},
   "source": [
    "Filter Out Emails"
   ]
  },
  {
   "cell_type": "code",
   "execution_count": 12,
   "metadata": {},
   "outputs": [],
   "source": [
    "import pandas as pd"
   ]
  },
  {
   "cell_type": "code",
   "execution_count": 13,
   "metadata": {},
   "outputs": [],
   "source": [
    "df = pd.read_csv(\"../app/data/all_orders_etsy_Design Tees Central.csv\")"
   ]
  },
  {
   "cell_type": "code",
   "execution_count": 14,
   "metadata": {},
   "outputs": [
    {
     "data": {
      "text/plain": [
       "Order ID          2288\n",
       "App Order ID      2288\n",
       "Shop ID           2288\n",
       "First Name        2288\n",
       "Last Name         2288\n",
       "Email             2208\n",
       "Address           2288\n",
       "City              2288\n",
       "Region            2288\n",
       "Country           2288\n",
       "ZIP Code          2287\n",
       "Total Price       2288\n",
       "Total Shipping    2288\n",
       "Status            2288\n",
       "Created At        2288\n",
       "Line Items        2288\n",
       "dtype: int64"
      ]
     },
     "execution_count": 14,
     "metadata": {},
     "output_type": "execute_result"
    }
   ],
   "source": [
    "df[df['Shop ID']==13297332].count()"
   ]
  },
  {
   "cell_type": "code",
   "execution_count": 15,
   "metadata": {},
   "outputs": [],
   "source": [
    "emails = df['Email']"
   ]
  },
  {
   "cell_type": "code",
   "execution_count": null,
   "metadata": {},
   "outputs": [
    {
     "name": "stdout",
     "output_type": "stream",
     "text": [
      "Filtered emails with other columns saved to 'filtered_emails_with_columns.csv'.\n"
     ]
    }
   ],
   "source": [
    "import pandas as pd\n",
    "import re\n",
    "\n",
    "\n",
    "\n",
    "# Define a function to filter valid emails\n",
    "def filter_emails(email):\n",
    "    # Ensure the email is a string before applying regex\n",
    "    if isinstance(email, str):\n",
    "        # Regex to validate email\n",
    "        email_regex = r'^[a-zA-Z0-9._%+-]+@[a-zA-Z0-9.-]+\\.[a-zA-Z]{2,}$'\n",
    "        # Check if the email matches the regex and doesn't end with @privaterelay.appleid.com\n",
    "        if re.match(email_regex, email) and not email.endswith('@privaterelay.appleid.com'):\n",
    "            return email\n",
    "    return None\n",
    "\n",
    "# Apply the function to the column\n",
    "df['filtered_emails'] = df['Email'].apply(filter_emails)\n",
    "\n",
    "# Drop rows with None (invalid or unwanted emails)\n",
    "df_filtered = df.dropna(subset=['filtered_emails']).reset_index(drop=True)\n",
    "\n",
    "# Save the DataFrame with all columns to a CSV\n",
    "df_filtered.to_csv('../data/filtered_emails_with_columns2.csv', index=False)\n",
    "\n",
    "print(\"Filtered emails with other columns saved to 'filtered_emails_with_columns.csv'.\")\n"
   ]
  }
 ],
 "metadata": {
  "kernelspec": {
   "display_name": "cs449",
   "language": "python",
   "name": "python3"
  },
  "language_info": {
   "codemirror_mode": {
    "name": "ipython",
    "version": 3
   },
   "file_extension": ".py",
   "mimetype": "text/x-python",
   "name": "python",
   "nbconvert_exporter": "python",
   "pygments_lexer": "ipython3",
   "version": "3.9.16"
  }
 },
 "nbformat": 4,
 "nbformat_minor": 2
}
